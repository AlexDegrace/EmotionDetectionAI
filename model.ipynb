{
 "cells": [
  {
   "cell_type": "code",
   "execution_count": 1,
   "metadata": {},
   "outputs": [
    {
     "data": {
      "text/plain": [
       "ERROR: Timed out waiting for TensorBoard to start. It may still be running as pid 8020."
      ]
     },
     "metadata": {},
     "output_type": "display_data"
    }
   ],
   "source": [
    "'''\n",
    "Alex DeGrace 300071786\n",
    "Gabriel St-Pierre 300146514\n",
    "'''\n",
    "\n",
    "import numpy as np\n",
    "import pandas as pd\n",
    "import random as python_random\n",
    "import shutil\n",
    "import os\n",
    "import datetime\n",
    "from PIL import Image\n",
    "from multiprocessing import cpu_count\n",
    "from joblib import Parallel, delayed\n",
    "from collections import Counter\n",
    "from matplotlib import pyplot as plt\n",
    "from sklearn.model_selection import StratifiedShuffleSplit, train_test_split\n",
    "from sklearn.metrics import classification_report, confusion_matrix, mean_absolute_error\n",
    "\n",
    "import tensorflow as tf\n",
    "from tensorflow import keras\n",
    "from tensorflow.keras import layers\n",
    "from tensorflow.keras.preprocessing.image import ImageDataGenerator\n",
    "\n",
    "# for reproducibility purposes\n",
    "SEED = 123\n",
    "tf.random.set_seed(SEED)\n",
    "\n",
    "# load tensorboard extension\n",
    "%reload_ext tensorboard\n",
    "# specify the log directory where the tensorboard logs will be written\n",
    "%tensorboard --logdir logs"
   ]
  },
  {
   "cell_type": "code",
   "execution_count": 20,
   "metadata": {},
   "outputs": [
    {
     "name": "stdout",
     "output_type": "stream",
     "text": [
      "train percentage of angry image: 13.92%\n",
      "train percentage of disgusted image: 1.52%\n",
      "train percentage of fearful image: 14.27%\n",
      "train percentage of happy image: 25.13%\n",
      "train percentage of neutral image: 17.29%\n",
      "train percentage of sad image: 16.82%\n",
      "train percentage of surprised image: 11.05%\n",
      "Total number of train data: 28709\n",
      "----------------------------------------------\n",
      "test percentage of angry image: 13.35%\n",
      "test percentage of disgusted image: 1.55%\n",
      "test percentage of fearful image: 14.27%\n",
      "test percentage of happy image: 24.71%\n",
      "test percentage of neutral image: 17.18%\n",
      "test percentage of sad image: 17.37%\n",
      "test percentage of surprised image: 11.58%\n",
      "Total number of test data: 7178\n",
      "----------------------------------------------\n",
      "Percentage of image for training: 80.00%\n",
      "Percentage of image for test: 20.00%\n"
     ]
    }
   ],
   "source": [
    "\n",
    "\n",
    "# Array containing all possible class\n",
    "classes = [\"angry\",\"disgusted\",\"fearful\",\"happy\",\"neutral\",\"sad\",\"surprised\"]\n",
    "# Array containing train and test for looping\n",
    "folders_name = [\"train\",\"test\"]\n",
    "dir_path = './data'\n",
    "\n",
    "folder_img_count_array = []\n",
    "# Loop trough the folders_name array so that we visit both folders\n",
    "for folder_name in folders_name:\n",
    "    folder_img_count = 0\n",
    "    class_distribution_array = []\n",
    "    #Loop trough the class dictionary so that we go inside each class folders\n",
    "    for c in classes:\n",
    "        current_dir_path = dir_path + \"/\" + folder_name + \"/\" + c\n",
    "        count = 0\n",
    "        # Iterate directory\n",
    "        for file_path in os.listdir(current_dir_path):\n",
    "            # check if current path is a file\n",
    "            if os.path.isfile(os.path.join(current_dir_path, file_path)):\n",
    "                count += 1\n",
    "                folder_img_count += 1\n",
    "        class_distribution_array.append(count)\n",
    "    folder_img_count_array.append(folder_img_count)\n",
    "    #Print the class distribution of each dataset (train/test)\n",
    "    print(f\"{folder_name} percentage of angry image: {class_distribution_array[0]/folder_img_count*100:.2f}%\")\n",
    "    print(f\"{folder_name} percentage of disgusted image: {class_distribution_array[1]/folder_img_count*100:.2f}%\")\n",
    "    print(f\"{folder_name} percentage of fearful image: {class_distribution_array[2]/folder_img_count*100:.2f}%\")\n",
    "    print(f\"{folder_name} percentage of happy image: {class_distribution_array[3]/folder_img_count*100:.2f}%\")\n",
    "    print(f\"{folder_name} percentage of neutral image: {class_distribution_array[4]/folder_img_count*100:.2f}%\")\n",
    "    print(f\"{folder_name} percentage of sad image: {class_distribution_array[5]/folder_img_count*100:.2f}%\")\n",
    "    print(f\"{folder_name} percentage of surprised image: {class_distribution_array[6]/folder_img_count*100:.2f}%\")\n",
    "    print(\"Total number of\",folder_name,\"data:\",folder_img_count)\n",
    "    print(\"----------------------------------------------\")\n",
    "\n",
    "total_num_image = folder_img_count_array[0] + folder_img_count_array[1]\n",
    "#The total number of training images is 80% but 25% of the 80% (20% total) will be use for validation\n",
    "print(f\"Percentage of image for training: {folder_img_count_array[0]/total_num_image*100:.2f}%\")\n",
    "print(f\"Percentage of image for test: {folder_img_count_array[1]/total_num_image*100:.2f}%\")\n"
   ]
  },
  {
   "cell_type": "code",
   "execution_count": 29,
   "metadata": {},
   "outputs": [
    {
     "name": "stdout",
     "output_type": "stream",
     "text": [
      "./data/train\n",
      "Found 21535 images belonging to 7 classes.\n"
     ]
    },
    {
     "data": {
      "image/png": "[encoded data removed]",
      "text/plain": [
       "<Figure size 432x288 with 1 Axes>"
      ]
     },
     "metadata": {
      "needs_background": "light"
     },
     "output_type": "display_data"
    }
   ],
   "source": [
    "\n",
    "# Specify the batch size\n",
    "batch_size = 64\n",
    "\n",
    "\n",
    "#Create the training ImageGenerator to feed our model more and different data so that can perform better \n",
    "image_generator_training = ImageDataGenerator(\n",
    "    fill_mode='nearest',\n",
    "    brightness_range=[0.5,1.5],\n",
    "    horizontal_flip=True,\n",
    "    vertical_flip=True,\n",
    "    rescale=1/255,\n",
    "    validation_split=0.25 # takes 25% of test data for validation (20% of total data)\n",
    ")\n",
    "#Trainning directory path\n",
    "train_dir = dir_path + \"/\" + folders_name[0]\n",
    "print(train_dir)\n",
    "\n",
    "train_generator = image_generator_training.flow_from_directory(\n",
    "    train_dir,\n",
    "    target_size=(48, 48),\n",
    "    color_mode='grayscale',\n",
    "    #classes=classes,\n",
    "    class_mode='sparse',\n",
    "    batch_size=batch_size,\n",
    "    shuffle=True,\n",
    "    seed=SEED,\n",
    "    save_to_dir=\"./augemented_data\",\n",
    "    save_prefix='agm_img',\n",
    "    save_format='png',\n",
    "    subset=\"training\",\n",
    "    interpolation='nearest'\n",
    ")\n",
    "\n",
    "# Printing the first image in the train_generator\n",
    "print(\"Printing the first image in the train_generator\")\n",
    "for i, element in enumerate(train_generator):\n",
    "    plt.imshow(element[0][1], cmap=plt.cm.binary)\n",
    "    break"
   ]
  },
  {
   "cell_type": "code",
   "execution_count": null,
   "metadata": {},
   "outputs": [],
   "source": []
  }
 ],
 "metadata": {
  "interpreter": {
   "hash": "dcbc43bb51c6b710079320fd135063e28012cf5b36063b1ffdde6cef63bfa50e"
  },
  "kernelspec": {
   "display_name": "Python 3.8.12 ('csi4106')",
   "language": "python",
   "name": "python3"
  },
  "language_info": {
   "codemirror_mode": {
    "name": "ipython",
    "version": 3
   },
   "file_extension": ".py",
   "mimetype": "text/x-python",
   "name": "python",
   "nbconvert_exporter": "python",
   "pygments_lexer": "ipython3",
   "version": "3.8.12"
  },
  "orig_nbformat": 4
 },
 "nbformat": 4,
 "nbformat_minor": 2
}
